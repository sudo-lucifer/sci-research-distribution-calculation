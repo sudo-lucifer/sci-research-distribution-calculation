{
 "cells": [
  {
   "cell_type": "code",
   "execution_count": 51,
   "metadata": {},
   "outputs": [],
   "source": [
    "import numpy as np\n",
    "import math"
   ]
  },
  {
   "cell_type": "code",
   "execution_count": 54,
   "metadata": {},
   "outputs": [],
   "source": [
    "def find_mean_stf_sem(random_function):\n",
    "        for sample_size in [3,10,30,100,1000]:  \n",
    "                mean = np.mean(random_function(sample_size))\n",
    "                standard_dev = np.std(random_function(sample_size), ddof=1)\n",
    "                std_err = standard_dev/math.sqrt(sample_size)\n",
    "                print(f'Sample Size = {sample_size}' )\n",
    "                print(f'Mean = {mean}')\n",
    "                print(f'Std = {standard_dev}')\n",
    "                print(f'Std Err = {std_err}\\n')"
   ]
  },
  {
   "cell_type": "markdown",
   "metadata": {},
   "source": [
    "# Uniform Distribution\n",
    "### Sampling"
   ]
  },
  {
   "cell_type": "code",
   "execution_count": 52,
   "metadata": {},
   "outputs": [],
   "source": [
    "def random_data_uniform(sample_size: int):\n",
    "\treturn np.random.uniform(1, 0, sample_size)"
   ]
  },
  {
   "cell_type": "code",
   "execution_count": 55,
   "metadata": {},
   "outputs": [
    {
     "name": "stdout",
     "output_type": "stream",
     "text": [
      "Uniform Distribution\n",
      "===========================================\n",
      "Sample Size = 3\n",
      "Mean = 0.4677176116430843\n",
      "Std = 0.1653791337000956\n",
      "Std Err = 0.09548168736009731\n",
      "\n",
      "Sample Size = 10\n",
      "Mean = 0.4558380801613328\n",
      "Std = 0.22953926022762156\n",
      "Std Err = 0.07258668747493838\n",
      "\n",
      "Sample Size = 30\n",
      "Mean = 0.5010010635119239\n",
      "Std = 0.29917479310641815\n",
      "Std Err = 0.05462159427377543\n",
      "\n",
      "Sample Size = 100\n",
      "Mean = 0.46309928449668974\n",
      "Std = 0.2783172738957967\n",
      "Std Err = 0.027831727389579668\n",
      "\n",
      "Sample Size = 1000\n",
      "Mean = 0.5032605284345479\n",
      "Std = 0.2878021144838451\n",
      "Std Err = 0.009101101971814856\n",
      "\n"
     ]
    }
   ],
   "source": [
    "print(\"Uniform Distribution\")\n",
    "print(\"===========================================\")\n",
    "find_mean_stf_sem(random_data_uniform)"
   ]
  },
  {
   "cell_type": "markdown",
   "metadata": {},
   "source": [
    "# Normal Distribution\n",
    "### Sampling\n"
   ]
  },
  {
   "cell_type": "code",
   "execution_count": 58,
   "metadata": {},
   "outputs": [
    {
     "name": "stdout",
     "output_type": "stream",
     "text": [
      "Normal Distribution\n",
      "===========================================\n",
      "Sample Size = 3\n",
      "Mean = -0.8249784181630454\n",
      "Std = 1.8728817443738914\n",
      "Std Err = 1.0813087792746021\n",
      "\n",
      "Sample Size = 10\n",
      "Mean = 0.43323929800444966\n",
      "Std = 0.5385363221545296\n",
      "Std Err = 0.17030013807385103\n",
      "\n",
      "Sample Size = 30\n",
      "Mean = -0.2104480039641267\n",
      "Std = 0.9370923162048042\n",
      "Std Err = 0.1710888666833784\n",
      "\n",
      "Sample Size = 100\n",
      "Mean = -0.2630905873563622\n",
      "Std = 1.0922127718433432\n",
      "Std Err = 0.10922127718433432\n",
      "\n",
      "Sample Size = 1000\n",
      "Mean = -0.0012818434565409014\n",
      "Std = 0.988845450567682\n",
      "Std Err = 0.03127003877689316\n",
      "\n"
     ]
    }
   ],
   "source": [
    "print(\"Normal Distribution\")\n",
    "print(\"===========================================\")\n",
    "find_mean_stf_sem(lambda x : np.random.normal(0,1,x))"
   ]
  },
  {
   "cell_type": "markdown",
   "metadata": {},
   "source": [
    "# Exponential Distribution\n",
    "### Sampling"
   ]
  },
  {
   "cell_type": "code",
   "execution_count": 60,
   "metadata": {},
   "outputs": [
    {
     "name": "stdout",
     "output_type": "stream",
     "text": [
      "Exponential Distribution\n",
      "===========================================\n",
      "Sample Size = 3\n",
      "Mean = 0.9767962268984668\n",
      "Std = 0.32203286101781226\n",
      "Std Err = 0.18592575899653926\n",
      "\n",
      "Sample Size = 10\n",
      "Mean = 0.7070915831172693\n",
      "Std = 0.65550984865487\n",
      "Std Err = 0.20729041504216508\n",
      "\n",
      "Sample Size = 30\n",
      "Mean = 1.1394146495107134\n",
      "Std = 0.8873857729237326\n",
      "Std Err = 0.1620137350131618\n",
      "\n",
      "Sample Size = 100\n",
      "Mean = 1.0775158374274778\n",
      "Std = 0.9412405606331233\n",
      "Std Err = 0.09412405606331234\n",
      "\n",
      "Sample Size = 1000\n",
      "Mean = 1.0396684166135437\n",
      "Std = 0.9081700400375196\n",
      "Std Err = 0.028718858292448707\n",
      "\n"
     ]
    }
   ],
   "source": [
    "print(\"Exponential Distribution\")\n",
    "print(\"===========================================\")\n",
    "find_mean_stf_sem(lambda x : np.random.exponential(1,x))"
   ]
  },
  {
   "cell_type": "code",
   "execution_count": null,
   "metadata": {},
   "outputs": [],
   "source": []
  }
 ],
 "metadata": {
  "interpreter": {
   "hash": "b0fa6594d8f4cbf19f97940f81e996739fb7646882a419484c72d19e05852a7e"
  },
  "kernelspec": {
   "display_name": "Python 3.9.8 64-bit",
   "language": "python",
   "name": "python3"
  },
  "language_info": {
   "codemirror_mode": {
    "name": "ipython",
    "version": 3
   },
   "file_extension": ".py",
   "mimetype": "text/x-python",
   "name": "python",
   "nbconvert_exporter": "python",
   "pygments_lexer": "ipython3",
   "version": "3.9.8"
  },
  "orig_nbformat": 4
 },
 "nbformat": 4,
 "nbformat_minor": 2
}
